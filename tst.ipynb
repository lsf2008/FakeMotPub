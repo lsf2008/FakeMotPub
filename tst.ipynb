{
 "cells": [
  {
   "cell_type": "code",
   "execution_count": 1,
   "metadata": {},
   "outputs": [
    {
     "name": "stderr",
     "output_type": "stream",
     "text": [
      "d:\\ProgramData\\Anaconda3\\envs\\pytorch1\\lib\\site-packages\\tqdm\\auto.py:22: TqdmWarning: IProgress not found. Please update jupyter and ipywidgets. See https://ipywidgets.readthedocs.io/en/stable/user_install.html\n",
      "  from .autonotebook import tqdm as notebook_tqdm\n"
     ]
    }
   ],
   "source": [
    "import torch\n",
    "import torch.nn as nn\n",
    "import numpy as np\n",
    "import cv2\n",
    "import matplotlib.pyplot as plt\n"
   ]
  },
  {
   "attachments": {},
   "cell_type": "markdown",
   "metadata": {},
   "source": [
    "\\ell(x, y) = L = \\{l_1,\\dots,l_N\\}^\\top, \\quad\n",
    "        l_n = \\left( x_n - y_n \\right)^2"
   ]
  },
  {
   "cell_type": "code",
   "execution_count": 10,
   "metadata": {},
   "outputs": [
    {
     "data": {
      "text/plain": [
       "torch.Size([3600, 2])"
      ]
     },
     "execution_count": 10,
     "metadata": {},
     "output_type": "execute_result"
    }
   ],
   "source": [
    "x = torch.randn((7200,2))\n",
    "b, _ = x.shape\n",
    "x_norm, x_anorm=torch.split(x, 3600, dim=0)\n",
    "x_norm.shape"
   ]
  },
  {
   "cell_type": "code",
   "execution_count": 14,
   "metadata": {},
   "outputs": [],
   "source": [
    "import torch\n",
    "import random\n",
    "def permute_tensor(input_tensor):\n",
    "    # 获取张量的维度\n",
    "    tensor_shape = input_tensor.shape\n",
    "    # 获取张量的索引总数\n",
    "    total_indices = int(torch.prod(torch.tensor(tensor_shape)))\n",
    "    # 创建一个索引列表\n",
    "    indices = list(range(total_indices))\n",
    "    # 随机打乱索引\n",
    "    random.shuffle(indices)\n",
    "     # 将打乱的索引按照张量形状重新排列\n",
    "    reshaped_indices = torch.reshape(torch.tensor(indices), tensor_shape)\n",
    "     # 确保没有连续的索引\n",
    "    for dim in range(len(tensor_shape)):\n",
    "        reshaped_indices = reshaped_indices.transpose(dim, 0)\n",
    "        last_index = reshaped_indices[0].item()\n",
    "        for i in range(1, reshaped_indices.size(0)):\n",
    "            current_index = reshaped_indices[i].item()\n",
    "            if abs(current_index - last_index) == 1:\n",
    "                # 如果有连续索引，则交换索引位置\n",
    "                reshaped_indices[i], reshaped_indices[i - 1] = reshaped_indices[i - 1], reshaped_indices[i]\n",
    "            last_index = reshaped_indices[i].item()\n",
    "        reshaped_indices = reshaped_indices.transpose(dim, 0)\n",
    "     # 根据打乱的索引对张量进行重新排列\n",
    "    output_tensor = torch.index_select(input_tensor.flatten(), 0, reshaped_indices.flatten())\n",
    "    output_tensor = output_tensor.reshape(tensor_shape)\n",
    "    return output_tensor"
   ]
  },
  {
   "cell_type": "code",
   "execution_count": 27,
   "metadata": {},
   "outputs": [
    {
     "name": "stdout",
     "output_type": "stream",
     "text": [
      "tensor([5, 6, 3, 4, 1, 2, 7, 0])\n"
     ]
    },
    {
     "name": "stderr",
     "output_type": "stream",
     "text": [
      "C:\\Users\\Administrator\\AppData\\Local\\Temp\\ipykernel_7088\\399165191.py:3: UserWarning: torch.range is deprecated and will be removed in a future release because its behavior is inconsistent with Python's range builtin. Instead, use torch.arange, which produces values in [start, end).\n",
      "  idx = torch.range(0, x_len)\n"
     ]
    },
    {
     "name": "stdout",
     "output_type": "stream",
     "text": [
      "tensor([5, 6, 3, 4, 4, 4, 7, 2])\n"
     ]
    }
   ],
   "source": [
    "x=[1,2,3,4,5,6,7,8]\n",
    "x_len = 8\n",
    "idx = torch.range(0, x_len)\n",
    "# print(idx)\n",
    "idx = torch.randperm(x_len)\n",
    "shf_index = idx\n",
    "print(shf_index)\n",
    "for i in range(x_len):\n",
    "    if i==0:\n",
    "        shf_index[i]=idx[i]\n",
    "    elif shf_index[-1]-idx[i]==-1:\n",
    "        shf_index[-1] = idx[i]\n",
    "        shf_index[i] = idx[i-1]\n",
    "    else:\n",
    "        shf_index[i] = idx[i]\n",
    "\n",
    "print(shf_index)"
   ]
  },
  {
   "cell_type": "code",
   "execution_count": null,
   "metadata": {},
   "outputs": [],
   "source": []
  }
 ],
 "metadata": {
  "kernelspec": {
   "display_name": "Python 3.8.8 ('pytorch1')",
   "language": "python",
   "name": "python3"
  },
  "language_info": {
   "codemirror_mode": {
    "name": "ipython",
    "version": 3
   },
   "file_extension": ".py",
   "mimetype": "text/x-python",
   "name": "python",
   "nbconvert_exporter": "python",
   "pygments_lexer": "ipython3",
   "version": "3.8.8"
  },
  "orig_nbformat": 4,
  "vscode": {
   "interpreter": {
    "hash": "c5c0e06804651abdac4bfe48710e32e9c57cb9ab6bc900b447fa68a6eb8d7c0e"
   }
  }
 },
 "nbformat": 4,
 "nbformat_minor": 2
}